{
 "cells": [
  {
   "cell_type": "code",
   "execution_count": 49,
   "id": "93e1fb23",
   "metadata": {},
   "outputs": [],
   "source": [
    "from pymatgen.ext.matproj import MPRester\n",
    "from pymatgen.io.cif import CifWriter\n",
    "from IPython.display import FileLink\n",
    "from pymatgen.symmetry.analyzer import SpacegroupAnalyzer"
   ]
  },
  {
   "cell_type": "code",
   "execution_count": 50,
   "id": "5df4c7fd",
   "metadata": {},
   "outputs": [
    {
     "name": "stdout",
     "output_type": "stream",
     "text": [
      "Cliquez sur le lien pour télécharger le fichier .CIF\n"
     ]
    },
    {
     "data": {
      "text/html": [
       "<a href='mp-961713.cif' target='_blank'>mp-961713.cif</a><br>"
      ],
      "text/plain": [
       "/home/users/c/m/cmoureau/mp-961713.cif"
      ]
     },
     "metadata": {},
     "output_type": "display_data"
    }
   ],
   "source": [
    "#Nous travaillons ici sur la cellule primitive du materiau\n",
    "#Pour travailler sur la cellule CONVENTIONNELLE standard, lire le commentaire suivant\n",
    "\n",
    "with MPRester(\"cG5llIAs5Ub9zbbJaG\") as m:\n",
    "    \n",
    "    #pour travailler avce la cellule CONVENTIONNELLE standard il faut modifier le parametre << conventional_unit_cell = True >>\n",
    "    structure = m.get_structure_by_material_id(\"mp-961713\", conventional_unit_cell = False)\n",
    "    \n",
    "    w = CifWriter(structure)\n",
    "    w.write_file(\"mp-961713.cif\")\n",
    "    \n",
    "    print(\"Cliquez sur le lien pour télécharger le fichier .CIF\")\n",
    "    display(FileLink(\"mp-961713.cif\"))"
   ]
  },
  {
   "cell_type": "code",
   "execution_count": 51,
   "id": "a2f8e5fd",
   "metadata": {},
   "outputs": [
    {
     "name": "stdout",
     "output_type": "stream",
     "text": [
      "Reseau DIRECT\n",
      "\n",
      "Les 3 vecteurs de base du reseau direct sont: \n",
      "0.000000 3.211183 3.211183\n",
      "3.211183 0.000000 3.211183\n",
      "3.211183 3.211183 0.000000\n",
      "\n",
      "Longueurs en Ångström:\n",
      "a = 4.5412985498619225\n",
      "b = 4.5412985498619225\n",
      "c = 4.5412985498619225\n",
      "\n",
      "Angles en ° :\n",
      "α = 60.00000000000001\n",
      "β = 60.00000000000001\n",
      "ɣ = 60.00000000000001\n"
     ]
    }
   ],
   "source": [
    "print(\"Reseau DIRECT\\n\")\n",
    "#obtenir les vecteurs de base du reseau direct\n",
    "print(\"Les 3 vecteurs de base du reseau direct sont: \")\n",
    "print(structure.lattice)\n",
    "\n",
    "#longueur des vecteurs\n",
    "longueurs = structure.lattice.abc\n",
    "print(\"\\nLongueurs en Ångström:\")\n",
    "print(\"a = \" + str(longueurs[0]))\n",
    "print(\"b = \" + str(longueurs[1]))\n",
    "print(\"c = \" + str(longueurs[2]))\n",
    "\n",
    "#angles\n",
    "angles = structure.lattice.angles\n",
    "print(\"\\nAngles en ° :\")\n",
    "print(\"α = \" + str(angles[0]))\n",
    "print(\"β = \" + str(angles[1]))\n",
    "print(\"ɣ = \" + str(angles[2]))"
   ]
  },
  {
   "cell_type": "code",
   "execution_count": 52,
   "id": "0e33ba5e",
   "metadata": {},
   "outputs": [
    {
     "name": "stdout",
     "output_type": "stream",
     "text": [
      "Reseau RECIPROQUE\n",
      "\n",
      "Les 3 vecteurs de base du réseau réciproque sont: \n",
      "-0.978329 0.978329 0.978329\n",
      "0.978329 -0.978329 0.978329\n",
      "0.978329 0.978329 -0.978329\n",
      "\n",
      "Longueurs en Ångström:\n",
      "a = 1.6945151032197956\n",
      "b = 1.6945151032197956\n",
      "c = 1.6945151032197956\n",
      "\n",
      "Angles en ° :\n",
      "α = 109.47122063449069\n",
      "β = 109.47122063449069\n",
      "ɣ = 109.47122063449069\n"
     ]
    }
   ],
   "source": [
    "print(\"Reseau RECIPROQUE\\n\")\n",
    "#obtenir les vecteurs de base du reseau reciproque\n",
    "print(\"Les 3 vecteurs de base du réseau réciproque sont: \")\n",
    "print(structure.lattice.reciprocal_lattice)\n",
    "\n",
    "#longueur des vecteurs\n",
    "longueurs_r = structure.lattice.reciprocal_lattice.abc\n",
    "print(\"\\nLongueurs en Ångström:\")\n",
    "print(\"a = \" + str(longueurs_r[0]))\n",
    "print(\"b = \" + str(longueurs_r[1]))\n",
    "print(\"c = \" + str(longueurs_r[2]))\n",
    "\n",
    "#angles\n",
    "angles_r = structure.lattice.reciprocal_lattice.angles\n",
    "print(\"\\nAngles en ° :\")\n",
    "print(\"α = \" + str(angles_r[0]))\n",
    "print(\"β = \" + str(angles_r[1]))\n",
    "print(\"ɣ = \" + str(angles_r[2]))"
   ]
  },
  {
   "cell_type": "code",
   "execution_count": 53,
   "id": "37c61f75",
   "metadata": {},
   "outputs": [
    {
     "name": "stdout",
     "output_type": "stream",
     "text": [
      "Le type de maille est: cubic\n",
      "Le systeme crystallin est: cubic\n",
      "Le groupe ponctuel est: -43m\n"
     ]
    }
   ],
   "source": [
    "#obtenir la maille, le système cristallin et le groupe ponctuel du materiau\n",
    "maille = SpacegroupAnalyzer(structure).get_lattice_type()\n",
    "crystal = SpacegroupAnalyzer(structure).get_crystal_system()\n",
    "groupe_ponctuel = SpacegroupAnalyzer(structure).get_point_group_symbol()\n",
    "print(\"Le type de maille est: \" + maille)\n",
    "print(\"Le systeme crystallin est: \" + crystal)\n",
    "print(\"Le groupe ponctuel est: \" + groupe_ponctuel)"
   ]
  },
  {
   "cell_type": "code",
   "execution_count": null,
   "id": "2340d7cd",
   "metadata": {},
   "outputs": [],
   "source": []
  }
 ],
 "metadata": {
  "kernelspec": {
   "display_name": "Python 3",
   "language": "python",
   "name": "python3"
  },
  "language_info": {
   "codemirror_mode": {
    "name": "ipython",
    "version": 3
   },
   "file_extension": ".py",
   "mimetype": "text/x-python",
   "name": "python",
   "nbconvert_exporter": "python",
   "pygments_lexer": "ipython3",
   "version": "3.6.8"
  }
 },
 "nbformat": 4,
 "nbformat_minor": 5
}
