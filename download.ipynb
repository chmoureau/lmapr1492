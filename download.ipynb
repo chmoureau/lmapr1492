{
 "cells": [
  {
   "cell_type": "code",
   "execution_count": 9,
   "id": "d40bebaf",
   "metadata": {},
   "outputs": [
    {
     "name": "stdout",
     "output_type": "stream",
     "text": [
      "Cliquez sur le lien pour télécharger le fichier .CIF de la cellule primitive du materiau ZrSnPt.\n"
     ]
    },
    {
     "data": {
      "text/html": [
       "<a href='ZrSnPt_mp-961713.cif' target='_blank'>ZrSnPt_mp-961713.cif</a><br>"
      ],
      "text/plain": [
       "/home/users/c/m/cmoureau/ZrSnPt_mp-961713.cif"
      ]
     },
     "metadata": {},
     "output_type": "display_data"
    }
   ],
   "source": [
    "from pymatgen.ext.matproj import MPRester\n",
    "from pymatgen.io.cif import CifWriter\n",
    "from IPython.display import FileLink\n",
    "\n",
    "with MPRester(\"cG5llIAs5Ub9zbbJaG\") as m:\n",
    "\n",
    "    structure = m.get_structure_by_material_id(\"mp-961713\")\n",
    "    w = CifWriter(structure)\n",
    "    w.write_file(\"ZrSnPt_mp-961713.cif\")\n",
    "    print(\"Cliquez sur le lien pour télécharger le fichier .CIF de la cellule primitive du materiau ZrSnPt.\")\n",
    "    display(FileLink(\"ZrSnPt_mp-961713.cif\"))\n",
    "    \n",
    "\n",
    "\n",
    "\n",
    "\n"
   ]
  },
  {
   "cell_type": "code",
   "execution_count": null,
   "id": "63d6eaee",
   "metadata": {},
   "outputs": [],
   "source": []
  },
  {
   "cell_type": "code",
   "execution_count": null,
   "id": "1db50247",
   "metadata": {},
   "outputs": [],
   "source": []
  },
  {
   "cell_type": "code",
   "execution_count": null,
   "id": "dc1af708",
   "metadata": {},
   "outputs": [],
   "source": []
  }
 ],
 "metadata": {
  "kernelspec": {
   "display_name": "Python 3",
   "language": "python",
   "name": "python3"
  },
  "language_info": {
   "codemirror_mode": {
    "name": "ipython",
    "version": 3
   },
   "file_extension": ".py",
   "mimetype": "text/x-python",
   "name": "python",
   "nbconvert_exporter": "python",
   "pygments_lexer": "ipython3",
   "version": "3.6.8"
  }
 },
 "nbformat": 4,
 "nbformat_minor": 5
}
